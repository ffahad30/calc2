{
 "cells": [
  {
   "cell_type": "code",
   "execution_count": 6,
   "metadata": {
    "collapsed": true
   },
   "outputs": [
    {
     "data": {
      "text/plain": "        VALUE 1  VALUE 2  RESULT\nTEST 1        1        2       2\nTEST 2        4        5      20\nTEST 3        6        2      12\nTEST 4        3        6      18",
      "text/html": "<div>\n<style scoped>\n    .dataframe tbody tr th:only-of-type {\n        vertical-align: middle;\n    }\n\n    .dataframe tbody tr th {\n        vertical-align: top;\n    }\n\n    .dataframe thead th {\n        text-align: right;\n    }\n</style>\n<table border=\"1\" class=\"dataframe\">\n  <thead>\n    <tr style=\"text-align: right;\">\n      <th></th>\n      <th>VALUE 1</th>\n      <th>VALUE 2</th>\n      <th>RESULT</th>\n    </tr>\n  </thead>\n  <tbody>\n    <tr>\n      <th>TEST 1</th>\n      <td>1</td>\n      <td>2</td>\n      <td>2</td>\n    </tr>\n    <tr>\n      <th>TEST 2</th>\n      <td>4</td>\n      <td>5</td>\n      <td>20</td>\n    </tr>\n    <tr>\n      <th>TEST 3</th>\n      <td>6</td>\n      <td>2</td>\n      <td>12</td>\n    </tr>\n    <tr>\n      <th>TEST 4</th>\n      <td>3</td>\n      <td>6</td>\n      <td>18</td>\n    </tr>\n  </tbody>\n</table>\n</div>"
     },
     "execution_count": 6,
     "metadata": {},
     "output_type": "execute_result"
    }
   ],
   "source": [
    "data = {\n",
    "    'TEST 1': {'VALUE 1': '1', 'VALUE 2': '2', 'RESULT': '2'},\n",
    "    'TEST 2': {'VALUE 1': '4', 'VALUE 2': '5', 'RESULT': '20'},\n",
    "    'TEST 3': {'VALUE 1': '6', 'VALUE 2': '2', 'RESULT': '12'},\n",
    "    'TEST 4': {'VALUE 1': '3', 'VALUE 2': '6', 'RESULT': '18'}\n",
    "}\n",
    "\n",
    "columns = ('', 'VALUE 1', 'VALUE 2', 'RESULT')\n",
    "\n",
    "\n",
    "import pandas as pd\n",
    "\n",
    "df = pd.DataFrame(data=data).T\n",
    "df.to_csv('multiplication.csv')\n",
    "x = pd.read_csv('multiplication.csv', index_col=0)\n",
    "x"
   ]
  }
 ],
 "metadata": {
  "kernelspec": {
   "display_name": "Python 3",
   "language": "python",
   "name": "python3"
  },
  "language_info": {
   "codemirror_mode": {
    "name": "ipython",
    "version": 2
   },
   "file_extension": ".py",
   "mimetype": "text/x-python",
   "name": "python",
   "nbconvert_exporter": "python",
   "pygments_lexer": "ipython2",
   "version": "2.7.6"
  }
 },
 "nbformat": 4,
 "nbformat_minor": 0
}