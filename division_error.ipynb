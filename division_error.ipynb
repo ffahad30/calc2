{
 "cells": [
  {
   "cell_type": "code",
   "execution_count": 27,
   "metadata": {
    "collapsed": true
   },
   "outputs": [
    {
     "data": {
      "text/plain": "        VALUE 1  VALUE 2  RESULT\nTEST 1        6        0     NaN\nTEST 2       10        0     NaN\nTEST 3       30        0     NaN\nTEST 4       14        0     NaN\nTEST 5        9        0     NaN",
      "text/html": "<div>\n<style scoped>\n    .dataframe tbody tr th:only-of-type {\n        vertical-align: middle;\n    }\n\n    .dataframe tbody tr th {\n        vertical-align: top;\n    }\n\n    .dataframe thead th {\n        text-align: right;\n    }\n</style>\n<table border=\"1\" class=\"dataframe\">\n  <thead>\n    <tr style=\"text-align: right;\">\n      <th></th>\n      <th>VALUE 1</th>\n      <th>VALUE 2</th>\n      <th>RESULT</th>\n    </tr>\n  </thead>\n  <tbody>\n    <tr>\n      <th>TEST 1</th>\n      <td>6</td>\n      <td>0</td>\n      <td>NaN</td>\n    </tr>\n    <tr>\n      <th>TEST 2</th>\n      <td>10</td>\n      <td>0</td>\n      <td>NaN</td>\n    </tr>\n    <tr>\n      <th>TEST 3</th>\n      <td>30</td>\n      <td>0</td>\n      <td>NaN</td>\n    </tr>\n    <tr>\n      <th>TEST 4</th>\n      <td>14</td>\n      <td>0</td>\n      <td>NaN</td>\n    </tr>\n    <tr>\n      <th>TEST 5</th>\n      <td>9</td>\n      <td>0</td>\n      <td>NaN</td>\n    </tr>\n  </tbody>\n</table>\n</div>"
     },
     "execution_count": 27,
     "metadata": {},
     "output_type": "execute_result"
    }
   ],
   "source": [
    "data = {\n",
    "    'TEST 1': {'VALUE 1': '6', 'VALUE 2': '0', 'RESULT': \"error\"},\n",
    "    'TEST 2': {'VALUE 1': '10', 'VALUE 2': '0', 'RESULT': \"error\"},\n",
    "    'TEST 3': {'VALUE 1': '30', 'VALUE 2': '0', 'RESULT': \"error\"},\n",
    "    'TEST 4': {'VALUE 1': '14', 'VALUE 2': '0', 'RESULT': \"error\"},\n",
    "    'TEST 5': {'VALUE 1': '9', 'VALUE 2': '0', 'RESULT': \"error\"},\n",
    "}\n",
    "\n",
    "columns = ('', 'VALUE 1', 'VALUE 2', 'RESULT')\n",
    "\n",
    "\n",
    "import pandas as pd\n",
    "\n",
    "df = pd.DataFrame(data=data).T\n",
    "df.to_csv('division_error.csv')\n",
    "x = pd.read_csv('division_error.csv', index_col=0)\n",
    "x"
   ]
  }
 ],
 "metadata": {
  "kernelspec": {
   "display_name": "Python 3",
   "language": "python",
   "name": "python3"
  },
  "language_info": {
   "codemirror_mode": {
    "name": "ipython",
    "version": 2
   },
   "file_extension": ".py",
   "mimetype": "text/x-python",
   "name": "python",
   "nbconvert_exporter": "python",
   "pygments_lexer": "ipython2",
   "version": "2.7.6"
  }
 },
 "nbformat": 4,
 "nbformat_minor": 0
}