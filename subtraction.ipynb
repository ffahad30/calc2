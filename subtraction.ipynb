{
 "cells": [
  {
   "cell_type": "code",
   "execution_count": 12,
   "metadata": {
    "collapsed": true
   },
   "outputs": [
    {
     "data": {
      "text/plain": "        VALUE 1  VALUE 2  RESULT\nTEST 1        2        1       1\nTEST 2        7        2       5\nTEST 3        5        2       3",
      "text/html": "<div>\n<style scoped>\n    .dataframe tbody tr th:only-of-type {\n        vertical-align: middle;\n    }\n\n    .dataframe tbody tr th {\n        vertical-align: top;\n    }\n\n    .dataframe thead th {\n        text-align: right;\n    }\n</style>\n<table border=\"1\" class=\"dataframe\">\n  <thead>\n    <tr style=\"text-align: right;\">\n      <th></th>\n      <th>VALUE 1</th>\n      <th>VALUE 2</th>\n      <th>RESULT</th>\n    </tr>\n  </thead>\n  <tbody>\n    <tr>\n      <th>TEST 1</th>\n      <td>2</td>\n      <td>1</td>\n      <td>1</td>\n    </tr>\n    <tr>\n      <th>TEST 2</th>\n      <td>7</td>\n      <td>2</td>\n      <td>5</td>\n    </tr>\n    <tr>\n      <th>TEST 3</th>\n      <td>5</td>\n      <td>2</td>\n      <td>3</td>\n    </tr>\n  </tbody>\n</table>\n</div>"
     },
     "execution_count": 12,
     "metadata": {},
     "output_type": "execute_result"
    }
   ],
   "source": [
    "data = {\n",
    "   'TEST 1': {'VALUE 1': '2', 'VALUE 2': '1', 'RESULT': '1'},\n",
    "    'TEST 2': {'VALUE 1': '7', 'VALUE 2': '2', 'RESULT': '5'},\n",
    "    'TEST 3': {'VALUE 1': '5', 'VALUE 2': '2', 'RESULT': '3'}\n",
    "}\n",
    "\n",
    "columns = ('', 'VALUE 1', 'VALUE 2', 'RESULT')\n",
    "\n",
    "\n",
    "\n",
    "import pandas as pd\n",
    "\n",
    "df = pd.DataFrame(data=data).T\n",
    "df.to_csv('subtraction.csv')\n",
    "x = pd.read_csv('subtraction.csv', index_col=0)\n",
    "x"
   ]
  }
 ],
 "metadata": {
  "kernelspec": {
   "display_name": "Python 3",
   "language": "python",
   "name": "python3"
  },
  "language_info": {
   "codemirror_mode": {
    "name": "ipython",
    "version": 2
   },
   "file_extension": ".py",
   "mimetype": "text/x-python",
   "name": "python",
   "nbconvert_exporter": "python",
   "pygments_lexer": "ipython2",
   "version": "2.7.6"
  }
 },
 "nbformat": 4,
 "nbformat_minor": 0
}